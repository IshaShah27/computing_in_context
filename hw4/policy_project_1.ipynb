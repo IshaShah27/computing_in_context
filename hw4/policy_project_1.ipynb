{
 "cells": [
  {
   "cell_type": "markdown",
   "metadata": {},
   "source": [
    "# Computing in Context: Public Policy\n",
    "## Project 1: Exploratory Data Analysis \n",
    "\n",
    "---\n",
    "\n",
    "In this project, you will combine the computational concepts and best practices you have learned with Professor Cannon with the data exploration skills you have developed in the context. The functions you write in this assignment should be robust to any dataset, so you can use this code again in the future.\n",
    "\n",
    "You will be working with the [NYPD Motor Vehicle Collisions - Crashes](https://data.cityofnewyork.us/Public-Safety/NYPD-Motor-Vehicle-Collisions-Crashes/h9gi-nx95) dataset, made available on the [NYC Open Data](http://opendata.cityofnewyork.us/) portal. Specifically, you will be working with a sample of the data in the file `nypd_motor_vehicle_collisions_crashes_sample.csv` that I have posted to Courseworks.\n",
    "\n",
    "Almost all of the attributes and methods you will need to use you have already learned. A few hints for additional things that might come in handy:\n",
    "\n",
    "- The Series attribute `index` is going to come in handy in the first function\n",
    "- For printing text, [formatted string literals](https://docs.python.org/3/tutorial/inputoutput.html#formatted-string-literals) (or f strings) let you include the value of Python expressions inside a string\n",
    "- For printing a plot, use the command `plt.show()` after you have created the plot\n",
    "\n",
    "To get you started, I'm importing the libraries you will need and providing some code to make sure all the output of your functions prints in the notebook. I'm also providing code to load the data you'll need for the assignment.\n",
    "\n",
    "To submit the project, upload the completed notebook to Courseworks.\n",
    "\n",
    "This is an individual assignment."
   ]
  },
  {
   "cell_type": "code",
   "execution_count": null,
   "metadata": {},
   "outputs": [],
   "source": [
    "# Import relevant libraries\n",
    "import pandas as pd\n",
    "import matplotlib.pyplot as plt\n",
    "from IPython.core.interactiveshell import InteractiveShell\n",
    "\n",
    "# Make sure notebook prints all output a cell\n",
    "InteractiveShell.ast_node_interactivity = \"all\"\n",
    "\n",
    "# Make sure notebook prints plots\n",
    "%matplotlib inline"
   ]
  },
  {
   "cell_type": "code",
   "execution_count": null,
   "metadata": {},
   "outputs": [],
   "source": [
    "# Load data\n",
    "df = pd.read_csv('nypd_motor_vehicle_collisions_crashes_sample.csv',\n",
    "                 usecols = ['UNIQUE KEY', 'DATE', 'BOROUGH', \n",
    "                            'NUMBER OF PERSONS INJURED',\n",
    "                            'NUMBER OF PERSONS KILLED',\n",
    "                            'CONTRIBUTING FACTOR VEHICLE 1', \n",
    "                            'VEHICLE TYPE CODE 1'],\n",
    "                 index_col = 'UNIQUE KEY',\n",
    "                 parse_dates = ['DATE'])\n",
    "\n",
    "df.head()"
   ]
  },
  {
   "cell_type": "markdown",
   "metadata": {},
   "source": [
    "---\n",
    "\n",
    "### Task 1\n",
    "\n",
    "Write a function `explore_object` that takes a Pandas Series of type `object` and prints the following:\n",
    "\n",
    "- Number of unique values\n",
    "- The most common value\n",
    "- The least common value\n",
    "- The number of null values\n",
    "- A plot of the top five most common values"
   ]
  },
  {
   "cell_type": "code",
   "execution_count": null,
   "metadata": {},
   "outputs": [],
   "source": [
    "def explore_object(df, col_name):\n",
    "    \n",
    "    ## Write your code here"
   ]
  },
  {
   "cell_type": "markdown",
   "metadata": {},
   "source": [
    "---\n",
    "\n",
    "### Task 2\n",
    "\n",
    "Write a function `explore_numeric` that takes a Pandas Series of type `float` or `int` and prints the following:\n",
    "\n",
    "- The median value\n",
    "- The maximum value\n",
    "- The minimum value\n",
    "- The number of null values\n",
    "- A plot of the distribution"
   ]
  },
  {
   "cell_type": "code",
   "execution_count": null,
   "metadata": {},
   "outputs": [],
   "source": [
    "def explore_numeric(df, col_name):\n",
    "    \n",
    "    ## Write your code here"
   ]
  },
  {
   "cell_type": "markdown",
   "metadata": {},
   "source": [
    "---\n",
    "\n",
    "### Task 3\n",
    "\n",
    "Write a wrapper function `explore` that takes a dataframe and for each column calls the appropriate exploratory function. The function should print the results of the exploratory function."
   ]
  },
  {
   "cell_type": "code",
   "execution_count": null,
   "metadata": {},
   "outputs": [],
   "source": [
    "def explore(df):\n",
    "    \n",
    "    ## Write code here"
   ]
  },
  {
   "cell_type": "markdown",
   "metadata": {},
   "source": [
    "### Task 4\n",
    "\n",
    "Run the `explore` function."
   ]
  },
  {
   "cell_type": "code",
   "execution_count": null,
   "metadata": {},
   "outputs": [],
   "source": [
    "explore(df)"
   ]
  }
 ],
 "metadata": {
  "kernelspec": {
   "display_name": "Python 3",
   "language": "python",
   "name": "python3"
  },
  "language_info": {
   "codemirror_mode": {
    "name": "ipython",
    "version": 3
   },
   "file_extension": ".py",
   "mimetype": "text/x-python",
   "name": "python",
   "nbconvert_exporter": "python",
   "pygments_lexer": "ipython3",
   "version": "3.6.5"
  }
 },
 "nbformat": 4,
 "nbformat_minor": 2
}
