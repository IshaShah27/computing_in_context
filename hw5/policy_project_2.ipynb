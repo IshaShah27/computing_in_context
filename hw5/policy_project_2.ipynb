{
 "cells": [
  {
   "cell_type": "markdown",
   "metadata": {},
   "source": [
    "# Computing in Context: Public Policy\n",
    "## Project 2: GroupBy \n",
    "\n",
    "---\n",
    "\n",
    "In this project, you will use what you have learned about `GroupBy` operations in Pandas to answer questions about a dataset as well as construct new datasets at different units of analysis. This is a common data task in policy analysis. You might receive a dataset at a person-level and need to create household-level data instead, or receive data at a household-level and need to create geographic-level data.\n",
    "\n",
    "You will be working with the [DOHMH New York City Restaurant Inspection Results](https://data.cityofnewyork.us/Health/DOHMH-New-York-City-Restaurant-Inspection-Results/43nn-pn8j) dataset, made available on the [NYC Open Data](http://opendata.cityofnewyork.us/) portal. Specifically, you will be working with a sample of the data in the file `restaurant_inspection_results.csv` that I have posted to Courseworks.\n",
    "\n",
    "To submit the project, upload the completed notebook to Courseworks.\n",
    "\n",
    "This is an individual assignment."
   ]
  },
  {
   "cell_type": "code",
   "execution_count": null,
   "metadata": {},
   "outputs": [],
   "source": [
    "# Import relevant libraries\n",
    "import pandas as pd\n",
    "import matplotlib.pyplot as plt\n",
    "\n",
    "# Make sure notebook prints plots\n",
    "%matplotlib inline"
   ]
  },
  {
   "cell_type": "markdown",
   "metadata": {},
   "source": [
    "---\n",
    "\n",
    "### Task 1\n",
    "\n",
    "Load the data, including the following columns:\n",
    "\n",
    "- `CAMIS`\n",
    "- `DBA`\n",
    "- `BORO`\n",
    "- `CUISINE DESCRIPTION`\n",
    "- `INSPECTION DATE`\n",
    "- `VIOLATION CODE`\n",
    "- `VIOLATION DESCRIPTION`\n",
    "- `CRITICAL FLAG`\n",
    "- `SCORE`\n",
    "- `Census Tract`\n",
    "\n",
    "Make sure to load any date columns as date type."
   ]
  },
  {
   "cell_type": "code",
   "execution_count": 1,
   "metadata": {},
   "outputs": [],
   "source": []
  },
  {
   "cell_type": "markdown",
   "metadata": {},
   "source": [
    "---\n",
    "\n",
    "### Task 2\n",
    "\n",
    "Use `groupby` to ask and answer a question of this data that we didn't cover in class."
   ]
  },
  {
   "cell_type": "code",
   "execution_count": null,
   "metadata": {},
   "outputs": [],
   "source": []
  },
  {
   "cell_type": "markdown",
   "metadata": {},
   "source": [
    "---\n",
    "\n",
    "### Task 3\n",
    "\n",
    "What does each row of the current dataset represent? If you wanted to create a restaurant-level dataset (where each row in the dataframe represents a restaurant), what column should you split on?"
   ]
  },
  {
   "cell_type": "markdown",
   "metadata": {},
   "source": []
  },
  {
   "cell_type": "markdown",
   "metadata": {},
   "source": [
    "---\n",
    "\n",
    "### Task 4\n",
    "\n",
    "In the next two tasks, you are going to create a restaurant-level dataset where each row in the new dataframe represents a restaurant. Your restaurant-level datset should have the following features:\n",
    "\n",
    "- The restaurant's name at the date of the most recent inspection\n",
    "- The number of names associated with the restaurant\n",
    "- The restaurant's cuisine description at the date of the most recent inspection\n",
    "- The number of inspections the restaurant has had\n",
    "- The date of the first inspection\n",
    "- The date of the most recent inspection\n",
    "- The number of  inspection citations the restaurant has had\n",
    "- The number of unique violation types of the restaurant has had\n",
    "- Whether the restaurant has had a critical violation\n",
    "- The restaurant's most recent score\n",
    "- The borough the restaurant is located in at the date of the most recent inspection\n",
    "- The Census tract the restaurant is located in at the date of the most recent inspection\n",
    "\n",
    "For task 3, write a function `get_restaurant_features()` that takes a restaurant group `x` from the original dataframe and returns a Series with the above features for that restaurant group.\n",
    "\n",
    "Hints:\n",
    "\n",
    "- Some features require you to aggregate across all data for a restaurant group. Others require you to look at data associated with the most recent inspection. How can you use what you learned about `loc` and `idxmax()` to help with the latter set of features.\n",
    "- Think about the Series this function returns as a row in your final dataframe. Each value in the Series will be a particular value for a column in your restaurant dataframe, and its index should correspond to the column names you want in your restaurant dataframe."
   ]
  },
  {
   "cell_type": "code",
   "execution_count": null,
   "metadata": {},
   "outputs": [],
   "source": []
  },
  {
   "cell_type": "markdown",
   "metadata": {},
   "source": [
    "---\n",
    "\n",
    "### Task 5\n",
    "\n",
    "Create a restaurant-level dataframe using your `get_restaurant_features()` function from Task 3 and what you have learned about `GroupBy` operations."
   ]
  },
  {
   "cell_type": "code",
   "execution_count": null,
   "metadata": {},
   "outputs": [],
   "source": []
  },
  {
   "cell_type": "markdown",
   "metadata": {},
   "source": [
    "---\n",
    "\n",
    "### Task 6\n",
    "\n",
    "What is one idea for a dataset you could combine with the restaurant-level dataframe? What is a question that you could answer by combining these two datasets?"
   ]
  },
  {
   "cell_type": "markdown",
   "metadata": {},
   "source": []
  }
 ],
 "metadata": {
  "kernelspec": {
   "display_name": "Python 3",
   "language": "python",
   "name": "python3"
  },
  "language_info": {
   "codemirror_mode": {
    "name": "ipython",
    "version": 3
   },
   "file_extension": ".py",
   "mimetype": "text/x-python",
   "name": "python",
   "nbconvert_exporter": "python",
   "pygments_lexer": "ipython3",
   "version": "3.6.5"
  }
 },
 "nbformat": 4,
 "nbformat_minor": 2
}
